{
 "cells": [
  {
   "cell_type": "markdown",
   "id": "9803e5fc-dcc3-40b1-957c-f4adf3d92dbc",
   "metadata": {},
   "source": [
    "# Read CSV"
   ]
  },
  {
   "cell_type": "code",
   "execution_count": 1,
   "id": "6be4a0f1-bb75-48d8-9abf-1431fc9091de",
   "metadata": {},
   "outputs": [],
   "source": [
    "import pandas as pd"
   ]
  },
  {
   "cell_type": "code",
   "execution_count": null,
   "id": "2481be02-4618-463e-bf46-ac7b87f833df",
   "metadata": {},
   "outputs": [],
   "source": [
    "df = pd.read_csv(basepath + '\\\\' + inputfolder + '\\\\' + inputfile, sep = ',', encoding = 'utf-8')"
   ]
  },
  {
   "cell_type": "code",
   "execution_count": null,
   "id": "9f21a0d9-4d78-40ec-bbfc-a546c7295517",
   "metadata": {},
   "outputs": [],
   "source": [
    "print(df)"
   ]
  },
  {
   "cell_type": "code",
   "execution_count": null,
   "id": "7062ec5e-fde8-4e5b-9055-a3718b484b34",
   "metadata": {},
   "outputs": [],
   "source": [
    "print(\"CSV's has bean read!\")"
   ]
  }
 ],
 "metadata": {
  "kernelspec": {
   "display_name": "Python 3 (ipykernel)",
   "language": "python",
   "name": "python3"
  },
  "language_info": {
   "codemirror_mode": {
    "name": "ipython",
    "version": 3
   },
   "file_extension": ".py",
   "mimetype": "text/x-python",
   "name": "python",
   "nbconvert_exporter": "python",
   "pygments_lexer": "ipython3",
   "version": "3.11.7"
  }
 },
 "nbformat": 4,
 "nbformat_minor": 5
}
