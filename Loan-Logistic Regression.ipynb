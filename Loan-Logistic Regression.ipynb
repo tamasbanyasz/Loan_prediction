{
 "cells": [
  {
   "cell_type": "markdown",
   "id": "9227f465-52f1-4742-8da8-02a5d7d22622",
   "metadata": {},
   "source": [
    "# Loan - Logistic Regression"
   ]
  },
  {
   "cell_type": "code",
   "execution_count": 22,
   "id": "bccfe814-f4f3-4910-bfd3-6975d3922d46",
   "metadata": {},
   "outputs": [],
   "source": [
    "from sklearn.linear_model import LogisticRegression\n",
    "from sklearn.metrics import accuracy_score\n",
    "from sklearn.metrics import mean_squared_error\n",
    "import matplotlib.pyplot as plt\n",
    "import numpy as np"
   ]
  },
  {
   "cell_type": "markdown",
   "id": "163732cc-113c-4a98-b577-3214cd2eb086",
   "metadata": {},
   "source": [
    "# Run the 'Loan-Data_preparation' file"
   ]
  },
  {
   "cell_type": "code",
   "execution_count": 23,
   "id": "ce87dc85-83cb-4fea-9f63-ca01ad2b0daf",
   "metadata": {},
   "outputs": [
    {
     "name": "stdout",
     "output_type": "stream",
     "text": [
      "      Loan_ID  Gender Married Dependents     Education Self_Employed  \\\n",
      "0    LP001003    Male     Yes          1      Graduate            No   \n",
      "1    LP001005    Male     Yes          0      Graduate           Yes   \n",
      "2    LP001006    Male     Yes          0  Not Graduate            No   \n",
      "3    LP001008    Male      No          0      Graduate            No   \n",
      "4    LP001011    Male     Yes          2      Graduate           Yes   \n",
      "..        ...     ...     ...        ...           ...           ...   \n",
      "524  LP002978  Female      No          0      Graduate            No   \n",
      "525  LP002979    Male     Yes         3+      Graduate            No   \n",
      "526  LP002983    Male     Yes          1      Graduate            No   \n",
      "527  LP002984    Male     Yes          2      Graduate            No   \n",
      "528  LP002990  Female      No          0      Graduate           Yes   \n",
      "\n",
      "     Applicant_Income  Coapplicant_Income  Loan_Amount  Loan_Amount_Term  \\\n",
      "0                4583              1508.0          128               360   \n",
      "1                3000                 0.0           66               360   \n",
      "2                2583              2358.0          120               360   \n",
      "3                6000                 0.0          141               360   \n",
      "4                5417              4196.0          267               360   \n",
      "..                ...                 ...          ...               ...   \n",
      "524              2900                 0.0           71               360   \n",
      "525              4106                 0.0           40               180   \n",
      "526              8072               240.0          253               360   \n",
      "527              7583                 0.0          187               360   \n",
      "528              4583                 0.0          133               360   \n",
      "\n",
      "     Credit_History Property_Area Loan_Approved  \n",
      "0                 1         Rural             N  \n",
      "1                 1         Urban             Y  \n",
      "2                 1         Urban             Y  \n",
      "3                 1         Urban             Y  \n",
      "4                 1         Urban             Y  \n",
      "..              ...           ...           ...  \n",
      "524               1         Rural             Y  \n",
      "525               1         Rural             Y  \n",
      "526               1         Urban             Y  \n",
      "527               1         Urban             Y  \n",
      "528               0     Semiurban             N  \n",
      "\n",
      "[529 rows x 13 columns]\n",
      "CSV's has bean read!\n",
      "Loan_ID: 0 value(s) missing\n",
      "Gender: 12 value(s) missing\n",
      "Married: 2 value(s) missing\n",
      "Dependents: 12 value(s) missing\n",
      "Education: 0 value(s) missing\n",
      "Self_Employed: 25 value(s) missing\n",
      "Applicant_Income: 0 value(s) missing\n",
      "Coapplicant_Income: 0 value(s) missing\n",
      "Loan_Amount: 0 value(s) missing\n",
      "Loan_Amount_Term: 0 value(s) missing\n",
      "Credit_History: 0 value(s) missing\n",
      "Property_Area: 0 value(s) missing\n",
      "Loan_Approved: 0 value(s) missing\n",
      "0    0\n",
      "1    1\n",
      "2    1\n",
      "3    1\n",
      "4    1\n",
      "Name: Loan_Approved, dtype: int16\n",
      "List of feature columns:\n",
      "['Gender', 'Married', 'Dependents', 'Education', 'Self_Employed', 'Applicant_Income', 'Coapplicant_Income', 'Loan_Amount', 'Loan_Amount_Term', 'Credit_History', 'Property_Area']\n",
      "Train set size: (423, 11), (423,)\n",
      "Test set size: (106, 11), (106,)\n",
      "Unique values for 'Gender': ['Female' 'Male' nan]\n",
      "Unique values for 'Married': ['No' 'Yes' nan]\n",
      "Unique values for 'Dependents': ['0' '2' '1' '3+' nan]\n",
      "Unique values for 'Education': ['Graduate' 'Not Graduate']\n",
      "Unique values for 'Self_Employed': ['No' 'Yes' nan]\n",
      "Unique values for 'Property_Area': ['Rural' 'Semiurban' 'Urban']\n",
      "\n",
      "Data preparation has been made!\n"
     ]
    }
   ],
   "source": [
    "%run Loan-Data_preparation.ipynb"
   ]
  },
  {
   "cell_type": "markdown",
   "id": "0c5d9e23-4f94-42a1-b831-d1e06bf499f0",
   "metadata": {},
   "source": [
    "# Transform on 'x_test'"
   ]
  },
  {
   "cell_type": "code",
   "execution_count": 24,
   "id": "3b94c2d4-c31a-40ac-a057-1c0c693e2a58",
   "metadata": {},
   "outputs": [
    {
     "data": {
      "text/html": [
       "<div>\n",
       "<style scoped>\n",
       "    .dataframe tbody tr th:only-of-type {\n",
       "        vertical-align: middle;\n",
       "    }\n",
       "\n",
       "    .dataframe tbody tr th {\n",
       "        vertical-align: top;\n",
       "    }\n",
       "\n",
       "    .dataframe thead th {\n",
       "        text-align: right;\n",
       "    }\n",
       "</style>\n",
       "<table border=\"1\" class=\"dataframe\">\n",
       "  <thead>\n",
       "    <tr style=\"text-align: right;\">\n",
       "      <th></th>\n",
       "      <th>Applicant_Income</th>\n",
       "      <th>Coapplicant_Income</th>\n",
       "      <th>Loan_Amount</th>\n",
       "      <th>Loan_Amount_Term</th>\n",
       "      <th>Credit_History</th>\n",
       "      <th>Gender_Male</th>\n",
       "      <th>Gender_Female</th>\n",
       "      <th>Married_Yes</th>\n",
       "      <th>Married_No</th>\n",
       "      <th>Dependents</th>\n",
       "      <th>Education</th>\n",
       "      <th>Self_Employed</th>\n",
       "      <th>Property_Area</th>\n",
       "    </tr>\n",
       "  </thead>\n",
       "  <tbody>\n",
       "    <tr>\n",
       "      <th>160</th>\n",
       "      <td>0.058565</td>\n",
       "      <td>0.000000</td>\n",
       "      <td>0.053173</td>\n",
       "      <td>0.729730</td>\n",
       "      <td>1.0</td>\n",
       "      <td>1.0</td>\n",
       "      <td>0.0</td>\n",
       "      <td>0.0</td>\n",
       "      <td>1.0</td>\n",
       "      <td>0.0</td>\n",
       "      <td>0.0</td>\n",
       "      <td>1.0</td>\n",
       "      <td>0.0</td>\n",
       "    </tr>\n",
       "    <tr>\n",
       "      <th>143</th>\n",
       "      <td>0.638380</td>\n",
       "      <td>0.000000</td>\n",
       "      <td>1.171527</td>\n",
       "      <td>0.594595</td>\n",
       "      <td>1.0</td>\n",
       "      <td>0.0</td>\n",
       "      <td>0.0</td>\n",
       "      <td>1.0</td>\n",
       "      <td>0.0</td>\n",
       "      <td>3.0</td>\n",
       "      <td>1.0</td>\n",
       "      <td>1.0</td>\n",
       "      <td>2.0</td>\n",
       "    </tr>\n",
       "    <tr>\n",
       "      <th>318</th>\n",
       "      <td>0.113457</td>\n",
       "      <td>0.232674</td>\n",
       "      <td>0.622642</td>\n",
       "      <td>0.594595</td>\n",
       "      <td>1.0</td>\n",
       "      <td>1.0</td>\n",
       "      <td>0.0</td>\n",
       "      <td>1.0</td>\n",
       "      <td>0.0</td>\n",
       "      <td>2.0</td>\n",
       "      <td>1.0</td>\n",
       "      <td>0.0</td>\n",
       "      <td>0.0</td>\n",
       "    </tr>\n",
       "    <tr>\n",
       "      <th>53</th>\n",
       "      <td>0.049672</td>\n",
       "      <td>0.000000</td>\n",
       "      <td>0.169811</td>\n",
       "      <td>0.729730</td>\n",
       "      <td>0.0</td>\n",
       "      <td>0.0</td>\n",
       "      <td>1.0</td>\n",
       "      <td>0.0</td>\n",
       "      <td>1.0</td>\n",
       "      <td>0.0</td>\n",
       "      <td>1.0</td>\n",
       "      <td>1.0</td>\n",
       "      <td>1.0</td>\n",
       "    </tr>\n",
       "    <tr>\n",
       "      <th>275</th>\n",
       "      <td>0.183673</td>\n",
       "      <td>0.000000</td>\n",
       "      <td>0.485420</td>\n",
       "      <td>0.729730</td>\n",
       "      <td>1.0</td>\n",
       "      <td>1.0</td>\n",
       "      <td>0.0</td>\n",
       "      <td>1.0</td>\n",
       "      <td>0.0</td>\n",
       "      <td>3.0</td>\n",
       "      <td>1.0</td>\n",
       "      <td>1.0</td>\n",
       "      <td>0.0</td>\n",
       "    </tr>\n",
       "    <tr>\n",
       "      <th>...</th>\n",
       "      <td>...</td>\n",
       "      <td>...</td>\n",
       "      <td>...</td>\n",
       "      <td>...</td>\n",
       "      <td>...</td>\n",
       "      <td>...</td>\n",
       "      <td>...</td>\n",
       "      <td>...</td>\n",
       "      <td>...</td>\n",
       "      <td>...</td>\n",
       "      <td>...</td>\n",
       "      <td>...</td>\n",
       "      <td>...</td>\n",
       "    </tr>\n",
       "    <tr>\n",
       "      <th>406</th>\n",
       "      <td>0.066568</td>\n",
       "      <td>0.137364</td>\n",
       "      <td>0.248714</td>\n",
       "      <td>0.729730</td>\n",
       "      <td>1.0</td>\n",
       "      <td>1.0</td>\n",
       "      <td>0.0</td>\n",
       "      <td>0.0</td>\n",
       "      <td>1.0</td>\n",
       "      <td>2.0</td>\n",
       "      <td>1.0</td>\n",
       "      <td>1.0</td>\n",
       "      <td>0.0</td>\n",
       "    </tr>\n",
       "    <tr>\n",
       "      <th>425</th>\n",
       "      <td>0.030303</td>\n",
       "      <td>0.050241</td>\n",
       "      <td>0.154374</td>\n",
       "      <td>0.729730</td>\n",
       "      <td>1.0</td>\n",
       "      <td>1.0</td>\n",
       "      <td>0.0</td>\n",
       "      <td>1.0</td>\n",
       "      <td>0.0</td>\n",
       "      <td>0.0</td>\n",
       "      <td>0.0</td>\n",
       "      <td>1.0</td>\n",
       "      <td>0.0</td>\n",
       "    </tr>\n",
       "    <tr>\n",
       "      <th>518</th>\n",
       "      <td>0.068683</td>\n",
       "      <td>0.000000</td>\n",
       "      <td>0.190395</td>\n",
       "      <td>0.729730</td>\n",
       "      <td>1.0</td>\n",
       "      <td>1.0</td>\n",
       "      <td>0.0</td>\n",
       "      <td>1.0</td>\n",
       "      <td>0.0</td>\n",
       "      <td>3.0</td>\n",
       "      <td>1.0</td>\n",
       "      <td>1.0</td>\n",
       "      <td>2.0</td>\n",
       "    </tr>\n",
       "    <tr>\n",
       "      <th>391</th>\n",
       "      <td>0.044007</td>\n",
       "      <td>0.075923</td>\n",
       "      <td>0.267581</td>\n",
       "      <td>0.729730</td>\n",
       "      <td>1.0</td>\n",
       "      <td>1.0</td>\n",
       "      <td>0.0</td>\n",
       "      <td>1.0</td>\n",
       "      <td>0.0</td>\n",
       "      <td>0.0</td>\n",
       "      <td>1.0</td>\n",
       "      <td>1.0</td>\n",
       "      <td>2.0</td>\n",
       "    </tr>\n",
       "    <tr>\n",
       "      <th>513</th>\n",
       "      <td>0.077093</td>\n",
       "      <td>0.029553</td>\n",
       "      <td>0.291595</td>\n",
       "      <td>0.729730</td>\n",
       "      <td>1.0</td>\n",
       "      <td>1.0</td>\n",
       "      <td>0.0</td>\n",
       "      <td>1.0</td>\n",
       "      <td>0.0</td>\n",
       "      <td>2.0</td>\n",
       "      <td>0.0</td>\n",
       "      <td>0.0</td>\n",
       "      <td>0.0</td>\n",
       "    </tr>\n",
       "  </tbody>\n",
       "</table>\n",
       "<p>106 rows × 13 columns</p>\n",
       "</div>"
      ],
      "text/plain": [
       "     Applicant_Income  Coapplicant_Income  Loan_Amount  Loan_Amount_Term  \\\n",
       "160          0.058565            0.000000     0.053173          0.729730   \n",
       "143          0.638380            0.000000     1.171527          0.594595   \n",
       "318          0.113457            0.232674     0.622642          0.594595   \n",
       "53           0.049672            0.000000     0.169811          0.729730   \n",
       "275          0.183673            0.000000     0.485420          0.729730   \n",
       "..                ...                 ...          ...               ...   \n",
       "406          0.066568            0.137364     0.248714          0.729730   \n",
       "425          0.030303            0.050241     0.154374          0.729730   \n",
       "518          0.068683            0.000000     0.190395          0.729730   \n",
       "391          0.044007            0.075923     0.267581          0.729730   \n",
       "513          0.077093            0.029553     0.291595          0.729730   \n",
       "\n",
       "     Credit_History  Gender_Male  Gender_Female  Married_Yes  Married_No  \\\n",
       "160             1.0          1.0            0.0          0.0         1.0   \n",
       "143             1.0          0.0            0.0          1.0         0.0   \n",
       "318             1.0          1.0            0.0          1.0         0.0   \n",
       "53              0.0          0.0            1.0          0.0         1.0   \n",
       "275             1.0          1.0            0.0          1.0         0.0   \n",
       "..              ...          ...            ...          ...         ...   \n",
       "406             1.0          1.0            0.0          0.0         1.0   \n",
       "425             1.0          1.0            0.0          1.0         0.0   \n",
       "518             1.0          1.0            0.0          1.0         0.0   \n",
       "391             1.0          1.0            0.0          1.0         0.0   \n",
       "513             1.0          1.0            0.0          1.0         0.0   \n",
       "\n",
       "     Dependents  Education  Self_Employed  Property_Area  \n",
       "160         0.0        0.0            1.0            0.0  \n",
       "143         3.0        1.0            1.0            2.0  \n",
       "318         2.0        1.0            0.0            0.0  \n",
       "53          0.0        1.0            1.0            1.0  \n",
       "275         3.0        1.0            1.0            0.0  \n",
       "..          ...        ...            ...            ...  \n",
       "406         2.0        1.0            1.0            0.0  \n",
       "425         0.0        0.0            1.0            0.0  \n",
       "518         3.0        1.0            1.0            2.0  \n",
       "391         0.0        1.0            1.0            2.0  \n",
       "513         2.0        0.0            0.0            0.0  \n",
       "\n",
       "[106 rows x 13 columns]"
      ]
     },
     "execution_count": 24,
     "metadata": {},
     "output_type": "execute_result"
    }
   ],
   "source": [
    "# Transform the x_test dataset using thepipeline\n",
    "x_test = pipe.transform(x_test)\n",
    "\n",
    "# Check the transformed x_test data\n",
    "x_test"
   ]
  },
  {
   "cell_type": "markdown",
   "id": "ebed084e-deaa-49d7-9be3-718cfff321bc",
   "metadata": {},
   "source": [
    "# Build and Train the Logistic Regression model"
   ]
  },
  {
   "cell_type": "code",
   "execution_count": 25,
   "id": "1f62a68e-3f17-44ef-b292-7e9c643195dc",
   "metadata": {},
   "outputs": [],
   "source": [
    "# Initialize the Logistic Regression model with a maximum iteration of 600\n",
    "logreg_model = LogisticRegression(max_iter=600)"
   ]
  },
  {
   "cell_type": "code",
   "execution_count": 26,
   "id": "fac0693a-3728-4c6b-a033-6e353b116802",
   "metadata": {},
   "outputs": [
    {
     "data": {
      "text/html": [
       "<style>#sk-container-id-2 {color: black;background-color: white;}#sk-container-id-2 pre{padding: 0;}#sk-container-id-2 div.sk-toggleable {background-color: white;}#sk-container-id-2 label.sk-toggleable__label {cursor: pointer;display: block;width: 100%;margin-bottom: 0;padding: 0.3em;box-sizing: border-box;text-align: center;}#sk-container-id-2 label.sk-toggleable__label-arrow:before {content: \"▸\";float: left;margin-right: 0.25em;color: #696969;}#sk-container-id-2 label.sk-toggleable__label-arrow:hover:before {color: black;}#sk-container-id-2 div.sk-estimator:hover label.sk-toggleable__label-arrow:before {color: black;}#sk-container-id-2 div.sk-toggleable__content {max-height: 0;max-width: 0;overflow: hidden;text-align: left;background-color: #f0f8ff;}#sk-container-id-2 div.sk-toggleable__content pre {margin: 0.2em;color: black;border-radius: 0.25em;background-color: #f0f8ff;}#sk-container-id-2 input.sk-toggleable__control:checked~div.sk-toggleable__content {max-height: 200px;max-width: 100%;overflow: auto;}#sk-container-id-2 input.sk-toggleable__control:checked~label.sk-toggleable__label-arrow:before {content: \"▾\";}#sk-container-id-2 div.sk-estimator input.sk-toggleable__control:checked~label.sk-toggleable__label {background-color: #d4ebff;}#sk-container-id-2 div.sk-label input.sk-toggleable__control:checked~label.sk-toggleable__label {background-color: #d4ebff;}#sk-container-id-2 input.sk-hidden--visually {border: 0;clip: rect(1px 1px 1px 1px);clip: rect(1px, 1px, 1px, 1px);height: 1px;margin: -1px;overflow: hidden;padding: 0;position: absolute;width: 1px;}#sk-container-id-2 div.sk-estimator {font-family: monospace;background-color: #f0f8ff;border: 1px dotted black;border-radius: 0.25em;box-sizing: border-box;margin-bottom: 0.5em;}#sk-container-id-2 div.sk-estimator:hover {background-color: #d4ebff;}#sk-container-id-2 div.sk-parallel-item::after {content: \"\";width: 100%;border-bottom: 1px solid gray;flex-grow: 1;}#sk-container-id-2 div.sk-label:hover label.sk-toggleable__label {background-color: #d4ebff;}#sk-container-id-2 div.sk-serial::before {content: \"\";position: absolute;border-left: 1px solid gray;box-sizing: border-box;top: 0;bottom: 0;left: 50%;z-index: 0;}#sk-container-id-2 div.sk-serial {display: flex;flex-direction: column;align-items: center;background-color: white;padding-right: 0.2em;padding-left: 0.2em;position: relative;}#sk-container-id-2 div.sk-item {position: relative;z-index: 1;}#sk-container-id-2 div.sk-parallel {display: flex;align-items: stretch;justify-content: center;background-color: white;position: relative;}#sk-container-id-2 div.sk-item::before, #sk-container-id-2 div.sk-parallel-item::before {content: \"\";position: absolute;border-left: 1px solid gray;box-sizing: border-box;top: 0;bottom: 0;left: 50%;z-index: -1;}#sk-container-id-2 div.sk-parallel-item {display: flex;flex-direction: column;z-index: 1;position: relative;background-color: white;}#sk-container-id-2 div.sk-parallel-item:first-child::after {align-self: flex-end;width: 50%;}#sk-container-id-2 div.sk-parallel-item:last-child::after {align-self: flex-start;width: 50%;}#sk-container-id-2 div.sk-parallel-item:only-child::after {width: 0;}#sk-container-id-2 div.sk-dashed-wrapped {border: 1px dashed gray;margin: 0 0.4em 0.5em 0.4em;box-sizing: border-box;padding-bottom: 0.4em;background-color: white;}#sk-container-id-2 div.sk-label label {font-family: monospace;font-weight: bold;display: inline-block;line-height: 1.2em;}#sk-container-id-2 div.sk-label-container {text-align: center;}#sk-container-id-2 div.sk-container {/* jupyter's `normalize.less` sets `[hidden] { display: none; }` but bootstrap.min.css set `[hidden] { display: none !important; }` so we also need the `!important` here to be able to override the default hidden behavior on the sphinx rendered scikit-learn.org. See: https://github.com/scikit-learn/scikit-learn/issues/21755 */display: inline-block !important;position: relative;}#sk-container-id-2 div.sk-text-repr-fallback {display: none;}</style><div id=\"sk-container-id-2\" class=\"sk-top-container\"><div class=\"sk-text-repr-fallback\"><pre>LogisticRegression(max_iter=600)</pre><b>In a Jupyter environment, please rerun this cell to show the HTML representation or trust the notebook. <br />On GitHub, the HTML representation is unable to render, please try loading this page with nbviewer.org.</b></div><div class=\"sk-container\" hidden><div class=\"sk-item\"><div class=\"sk-estimator sk-toggleable\"><input class=\"sk-toggleable__control sk-hidden--visually\" id=\"sk-estimator-id-2\" type=\"checkbox\" checked><label for=\"sk-estimator-id-2\" class=\"sk-toggleable__label sk-toggleable__label-arrow\">LogisticRegression</label><div class=\"sk-toggleable__content\"><pre>LogisticRegression(max_iter=600)</pre></div></div></div></div></div>"
      ],
      "text/plain": [
       "LogisticRegression(max_iter=600)"
      ]
     },
     "execution_count": 26,
     "metadata": {},
     "output_type": "execute_result"
    }
   ],
   "source": [
    "# Train the model on the x_train and y_train datasets\n",
    "logreg_model.fit(x_train, y_train)"
   ]
  },
  {
   "cell_type": "markdown",
   "id": "bb597031-11c6-455d-952b-a5c1893beb7f",
   "metadata": {},
   "source": [
    "# Intercept (b0) and coefficients (bn)"
   ]
  },
  {
   "cell_type": "code",
   "execution_count": 27,
   "id": "7fe32fdb-1b20-4a71-87f1-65e17e1305cb",
   "metadata": {},
   "outputs": [
    {
     "name": "stdout",
     "output_type": "stream",
     "text": [
      "Training Accuracy: 80.19%\n"
     ]
    }
   ],
   "source": [
    "# Calculate the model's accuracy score\n",
    "train_accuracy = logreg_model.score(x_test, y_test)\n",
    "print(f\"Training Accuracy: {train_accuracy * 100:.2f}%\")"
   ]
  },
  {
   "cell_type": "code",
   "execution_count": 28,
   "id": "841ea2ac-c882-45ee-94ab-e26d1d60af23",
   "metadata": {},
   "outputs": [
    {
     "name": "stdout",
     "output_type": "stream",
     "text": [
      "Intercept: -2.0967\n",
      "Coefficients: [-0.06834829 -0.59437365 -0.44205059 -0.61957103  3.1657086   0.47183266\n",
      "  0.46201     0.12077715 -0.45746497  0.02532999  0.4520807  -0.07182456\n",
      "  0.15782301]\n"
     ]
    }
   ],
   "source": [
    "# Get the model's intercept\n",
    "intercept = logreg_model.intercept_[0]\n",
    "print(f\"Intercept: {intercept:.4f}\")\n",
    "\n",
    "# Get the model's coefficients\n",
    "coefficients = logreg_model.coef_[0]\n",
    "print(f\"Coefficients: {coefficients}\")"
   ]
  },
  {
   "cell_type": "markdown",
   "id": "4c4f7df8-75fe-47fc-888e-5d8c106c5db6",
   "metadata": {},
   "source": [
    "# Equation of the Logistic Regression model"
   ]
  },
  {
   "cell_type": "code",
   "execution_count": 29,
   "id": "654c1fc9-97a7-4281-b1af-3088d2b541a9",
   "metadata": {},
   "outputs": [
    {
     "name": "stdout",
     "output_type": "stream",
     "text": [
      "The regression equation is:\n",
      "1\n",
      "------------------------------------------------------------------------------------------------------------------------\n",
      "1 + e ^ -( -2.1 + -0.07 + x1 + -0.59 + x2 + -0.44 + x3 + -0.62 + x4 + 3.17 + x5 + 0.47 + x6 + 0.46 + x7 + 0.12 + x8 + -0.46 + x9 + 0.03 + x10 + 0.45 + x11 + -0.07 + x12 + 0.16 + x13 )\n"
     ]
    }
   ],
   "source": [
    "# Display the equation of the Logistic Regression model\n",
    "bn_xn = ''\n",
    "\n",
    "for i in range( len(coefficients) ):\n",
    "    bn_xn += f' + {round(coefficients[i], 2)} + x{i + 1}'\n",
    "\n",
    "z = f'{round(intercept, 2)}{bn_xn}'\n",
    "print(f'The regression equation is:')\n",
    "print('1')\n",
    "print('------------------------------------------------------------------------------------------------------------------------')\n",
    "print(f'1 + e ^ -( {z} )')"
   ]
  },
  {
   "cell_type": "markdown",
   "id": "9eaf12ce-d2f0-4703-96bb-04899a163263",
   "metadata": {},
   "source": [
    "# Prediction on the x_test dataset"
   ]
  },
  {
   "cell_type": "code",
   "execution_count": 30,
   "id": "9b6e263f-b113-4dde-bf3f-fb2845606cba",
   "metadata": {},
   "outputs": [
    {
     "data": {
      "text/plain": [
       "array([1, 1, 1, 0, 1, 1, 1, 1, 1, 1, 1, 1, 1, 1, 1, 1, 1, 1, 1, 1, 1, 1,\n",
       "       0, 0, 1, 0, 0, 1, 0, 1, 1, 1, 1, 1, 1, 1, 0, 1, 1, 1, 1, 1, 1, 1,\n",
       "       1, 0, 1, 1, 1, 1, 1, 1, 1, 1, 1, 1, 1, 1, 1, 1, 0, 1, 1, 1, 1, 1,\n",
       "       1, 1, 1, 1, 1, 1, 1, 1, 1, 1, 1, 0, 1, 0, 1, 0, 0, 1, 1, 1, 1, 1,\n",
       "       1, 1, 1, 1, 1, 1, 1, 1, 0, 1, 1, 1, 1, 1, 1, 1, 1, 1], dtype=int16)"
      ]
     },
     "execution_count": 30,
     "metadata": {},
     "output_type": "execute_result"
    }
   ],
   "source": [
    "# Make predictions on the x_test dataset\n",
    "y_pred = logreg_model.predict(x_test)\n",
    "y_pred.round(2)"
   ]
  },
  {
   "cell_type": "markdown",
   "id": "f345a9c5-2e61-41d2-b3fd-dcc8bc534ab2",
   "metadata": {},
   "source": [
    "# Predictions on the \"x_test\" dataset (\"y_pred\"), and plot \"y_test\" against \"y_pred\" and \"y_pred\" against itself in two scatter plots"
   ]
  },
  {
   "cell_type": "code",
   "execution_count": 31,
   "id": "1d5f7dd1-6136-49a6-80d1-8e5e1aa291a6",
   "metadata": {},
   "outputs": [
    {
     "data": {
      "image/png": "[encoded data removed]",
      "text/plain": [
       "<Figure size 1400x600 with 2 Axes>"
      ]
     },
     "metadata": {},
     "output_type": "display_data"
    }
   ],
   "source": [
    "# Create a figure and axis for the plots\n",
    "fig, (ax1, ax2) = plt.subplots(1, 2, figsize=(14, 6))\n",
    "\n",
    "# Scatter plot of y_test vs. y_pred\n",
    "ax1.scatter(y_test, y_pred, color='blue', alpha=0.6)\n",
    "ax1.set_xlabel('Actual Values (y_test)')\n",
    "ax1.set_ylabel('Predicted Values (y_pred)')\n",
    "ax1.set_title('Actual vs Predicted')\n",
    "\n",
    "# Scatter plot of y_pred vs. y_pred (self-comparison)\n",
    "ax2.scatter(y_pred, y_pred, color='green', alpha=0.6)\n",
    "ax2.set_xlabel('Predicted Values (y_pred)')\n",
    "ax2.set_ylabel('Predicted Values (y_pred)')\n",
    "ax2.set_title('Predicted vs Predicted')\n",
    "\n",
    "# Show the plots\n",
    "plt.tight_layout()\n",
    "plt.show()"
   ]
  },
  {
   "cell_type": "code",
   "execution_count": 32,
   "id": "62550161-375e-4126-8e5a-8169fc35696a",
   "metadata": {},
   "outputs": [
    {
     "data": {
      "image/png": "[encoded data removed]",
      "text/plain": [
       "<Figure size 640x480 with 1 Axes>"
      ]
     },
     "metadata": {},
     "output_type": "display_data"
    }
   ],
   "source": [
    "plt.figure()\n",
    "plt.plot(y_pred, y_test, 'bo')\n",
    "plt.plot(y_pred, y_pred, 'rx')\n",
    "\n",
    "plt.title('Actual vs Predicted')\n",
    "plt.legend(['y_test', 'y_pred'], loc = 'lower right')\n",
    "plt.show()"
   ]
  },
  {
   "cell_type": "code",
   "execution_count": 33,
   "id": "434b9af2-4f05-411a-93fc-dbc71d623c3a",
   "metadata": {},
   "outputs": [
    {
     "data": {
      "image/png": "[encoded data removed]",
      "text/plain": [
       "<Figure size 640x480 with 1 Axes>"
      ]
     },
     "metadata": {},
     "output_type": "display_data"
    }
   ],
   "source": [
    "plt.figure()\n",
    "plt.plot(y_test.index, y_test, 'bo')\n",
    "plt.plot(y_test.index, y_pred, 'ro')\n",
    "\n",
    "plt.title('Actual vs Predicted')\n",
    "plt.legend(['y_test', 'y_pred'], loc = 'lower right')\n",
    "plt.show()"
   ]
  },
  {
   "cell_type": "code",
   "execution_count": 34,
   "id": "3ec95a23-7f19-440d-90b6-e760d9328f05",
   "metadata": {},
   "outputs": [
    {
     "name": "stdout",
     "output_type": "stream",
     "text": [
      "Root Mean Squared Error (RMSE): 0.4450990985692622\n"
     ]
    }
   ],
   "source": [
    "# Calculate root mean squared error (RMSE) between \"y_test\"and \"y_pred\"\n",
    "rmse = mean_squared_error(y_test, y_pred, squared=False)\n",
    "print(f\"Root Mean Squared Error (RMSE): {rmse}\")"
   ]
  },
  {
   "cell_type": "markdown",
   "id": "f5f57ac9-230b-4925-a171-61583c994ff5",
   "metadata": {},
   "source": [
    "# Create new DataFrame"
   ]
  },
  {
   "cell_type": "code",
   "execution_count": 35,
   "id": "920d0f47-530c-4842-9778-81bb99a831b4",
   "metadata": {},
   "outputs": [
    {
     "name": "stdout",
     "output_type": "stream",
     "text": [
      "   Gender Married Dependents     Education Self_Employed  Applicant_Income  \\\n",
      "0  Female      No          0  Not Graduate           Yes             18165   \n",
      "\n",
      "   Coapplicant_Income  Loan_Amount  Loan_Amount_Term  Credit_History  \\\n",
      "0                 0.0          125               360               1   \n",
      "\n",
      "  Property_Area  \n",
      "0         Urban  \n"
     ]
    }
   ],
   "source": [
    "new_data = pd.DataFrame({\n",
    "    \"Gender\": [\"Female\"],\n",
    "    \"Married\": [\"No\"],\n",
    "    \"Dependents\": [\"0\"],\n",
    "    \"Education\": [\"Not Graduate\"],\n",
    "    \"Self_Employed\": [\"Yes\"],\n",
    "    \"Applicant_Income\": [18165],\n",
    "    \"Coapplicant_Income\": [0.0],\n",
    "    \"Loan_Amount\": [125],\n",
    "    \"Loan_Amount_Term\": [360],\n",
    "    \"Credit_History\": [1],\n",
    "    \"Property_Area\": [\"Urban\"]\n",
    "})\n",
    "\n",
    "print(new_data)"
   ]
  },
  {
   "cell_type": "markdown",
   "id": "266a5a38-89e3-4cbc-bac4-fcb4402e76a9",
   "metadata": {},
   "source": [
    "# Transform new data using the pipeline and predict on it"
   ]
  },
  {
   "cell_type": "code",
   "execution_count": 36,
   "id": "9c2c4ecd-6429-420e-b273-c156bb2d182d",
   "metadata": {},
   "outputs": [
    {
     "data": {
      "text/html": [
       "<div>\n",
       "<style scoped>\n",
       "    .dataframe tbody tr th:only-of-type {\n",
       "        vertical-align: middle;\n",
       "    }\n",
       "\n",
       "    .dataframe tbody tr th {\n",
       "        vertical-align: top;\n",
       "    }\n",
       "\n",
       "    .dataframe thead th {\n",
       "        text-align: right;\n",
       "    }\n",
       "</style>\n",
       "<table border=\"1\" class=\"dataframe\">\n",
       "  <thead>\n",
       "    <tr style=\"text-align: right;\">\n",
       "      <th></th>\n",
       "      <th>Applicant_Income</th>\n",
       "      <th>Coapplicant_Income</th>\n",
       "      <th>Loan_Amount</th>\n",
       "      <th>Loan_Amount_Term</th>\n",
       "      <th>Credit_History</th>\n",
       "      <th>Gender_Male</th>\n",
       "      <th>Gender_Female</th>\n",
       "      <th>Married_Yes</th>\n",
       "      <th>Married_No</th>\n",
       "      <th>Dependents</th>\n",
       "      <th>Education</th>\n",
       "      <th>Self_Employed</th>\n",
       "      <th>Property_Area</th>\n",
       "    </tr>\n",
       "  </thead>\n",
       "  <tbody>\n",
       "    <tr>\n",
       "      <th>0</th>\n",
       "      <td>0.22282</td>\n",
       "      <td>0.0</td>\n",
       "      <td>0.185249</td>\n",
       "      <td>0.72973</td>\n",
       "      <td>1.0</td>\n",
       "      <td>0.0</td>\n",
       "      <td>1.0</td>\n",
       "      <td>0.0</td>\n",
       "      <td>1.0</td>\n",
       "      <td>0.0</td>\n",
       "      <td>0.0</td>\n",
       "      <td>0.0</td>\n",
       "      <td>2.0</td>\n",
       "    </tr>\n",
       "  </tbody>\n",
       "</table>\n",
       "</div>"
      ],
      "text/plain": [
       "   Applicant_Income  Coapplicant_Income  Loan_Amount  Loan_Amount_Term  \\\n",
       "0           0.22282                 0.0     0.185249           0.72973   \n",
       "\n",
       "   Credit_History  Gender_Male  Gender_Female  Married_Yes  Married_No  \\\n",
       "0             1.0          0.0            1.0          0.0         1.0   \n",
       "\n",
       "   Dependents  Education  Self_Employed  Property_Area  \n",
       "0         0.0        0.0            0.0            2.0  "
      ]
     },
     "execution_count": 36,
     "metadata": {},
     "output_type": "execute_result"
    }
   ],
   "source": [
    "x_new = pipe.transform(new_data)\n",
    "x_new"
   ]
  },
  {
   "cell_type": "code",
   "execution_count": 37,
   "id": "93b78597-73e8-4ebd-a08a-3170f1a49e83",
   "metadata": {},
   "outputs": [
    {
     "data": {
      "text/plain": [
       "array([1], dtype=int16)"
      ]
     },
     "execution_count": 37,
     "metadata": {},
     "output_type": "execute_result"
    }
   ],
   "source": [
    "# Make predictions on the new dataset\n",
    "loan_approval_prediction = logreg_model.predict(x_new)\n",
    "loan_approval_prediction"
   ]
  },
  {
   "cell_type": "markdown",
   "id": "9311b98f-27a8-4313-833c-b9871fb34fe9",
   "metadata": {},
   "source": [
    "# Make predict and double-check"
   ]
  },
  {
   "cell_type": "code",
   "execution_count": 38,
   "id": "cd5e3ddd-878a-4d8a-8848-7adc83c6f00b",
   "metadata": {},
   "outputs": [],
   "source": [
    "# Create sigmoid func\n",
    "def sigmoid(z):\n",
    "    return 1 / (1 + np.exp(-z))"
   ]
  },
  {
   "cell_type": "code",
   "execution_count": 39,
   "id": "bde50611-f232-42a8-84ea-dd2a83058339",
   "metadata": {},
   "outputs": [],
   "source": [
    "x_new = np.array(x_new)"
   ]
  },
  {
   "cell_type": "code",
   "execution_count": 40,
   "id": "0877db13-ae57-49e9-b40c-0a208b13aae4",
   "metadata": {},
   "outputs": [
    {
     "name": "stdout",
     "output_type": "stream",
     "text": [
      "Probability: 0.7\n"
     ]
    }
   ],
   "source": [
    "# Calculating the probability of approval using sigmoid function\n",
    "for x in x_new:\n",
    "    z = intercept\n",
    "\n",
    "    for i in range( len(x) ):\n",
    "        z += coefficients[i] * x[i]\n",
    "\n",
    "    probability = round(sigmoid(z), 2)\n",
    "    print(f'Probability: {probability}')"
   ]
  },
  {
   "cell_type": "code",
   "execution_count": 41,
   "id": "d0e8d1a8-d721-43b3-b264-31a2385269a7",
   "metadata": {},
   "outputs": [
    {
     "name": "stdout",
     "output_type": "stream",
     "text": [
      "According to the model, the loan is approved: ([1]), but the probability is 70.0%\n"
     ]
    }
   ],
   "source": [
    "print(f'According to the model, the loan is approved: ({loan_approval_prediction}), but the probability is {probability * 100}%')"
   ]
  }
 ],
 "metadata": {
  "kernelspec": {
   "display_name": "Python 3 (ipykernel)",
   "language": "python",
   "name": "python3"
  },
  "language_info": {
   "codemirror_mode": {
    "name": "ipython",
    "version": 3
   },
   "file_extension": ".py",
   "mimetype": "text/x-python",
   "name": "python",
   "nbconvert_exporter": "python",
   "pygments_lexer": "ipython3",
   "version": "3.11.7"
  }
 },
 "nbformat": 4,
 "nbformat_minor": 5
}
