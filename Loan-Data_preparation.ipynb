{
 "cells": [
  {
   "cell_type": "markdown",
   "id": "fd8a28ba-fc40-42a8-8b2b-6611c10c3b82",
   "metadata": {},
   "source": [
    "# Loan - Data preparation"
   ]
  },
  {
   "cell_type": "code",
   "execution_count": 180,
   "id": "219fe530-aef6-4721-9973-c10c660b841b",
   "metadata": {},
   "outputs": [],
   "source": [
    "# import the necessary libraries\n",
    "import pandas as pd\n",
    "from sklearn.model_selection import train_test_split\n",
    "from sklearn.pipeline import make_pipeline"
   ]
  },
  {
   "cell_type": "markdown",
   "id": "8fc8f49e-f8b8-43a9-93e5-136b81043465",
   "metadata": {},
   "source": [
    "# Read 'Loan_data.csv'"
   ]
  },
  {
   "cell_type": "code",
   "execution_count": 181,
   "id": "652669c1-0d26-4de7-b270-81554b06e396",
   "metadata": {},
   "outputs": [],
   "source": [
    "basepath = r'C:\\Users\\T\\Python_DA'             #  in my case:  r'C:\\Users\\T\\Python_DA'\n",
    "inputfolder = 'Source'          #               'Homeworks - Module II'\n",
    "inputfile = 'Loan_data.csv'                    #               'Loan_data.csv'"
   ]
  },
  {
   "cell_type": "code",
   "execution_count": 182,
   "id": "88c3e44e-8484-486f-bb16-a09c5d0344d2",
   "metadata": {},
   "outputs": [
    {
     "name": "stdout",
     "output_type": "stream",
     "text": [
      "      Loan_ID  Gender Married Dependents     Education Self_Employed  \\\n",
      "0    LP001003    Male     Yes          1      Graduate            No   \n",
      "1    LP001005    Male     Yes          0      Graduate           Yes   \n",
      "2    LP001006    Male     Yes          0  Not Graduate            No   \n",
      "3    LP001008    Male      No          0      Graduate            No   \n",
      "4    LP001011    Male     Yes          2      Graduate           Yes   \n",
      "..        ...     ...     ...        ...           ...           ...   \n",
      "524  LP002978  Female      No          0      Graduate            No   \n",
      "525  LP002979    Male     Yes         3+      Graduate            No   \n",
      "526  LP002983    Male     Yes          1      Graduate            No   \n",
      "527  LP002984    Male     Yes          2      Graduate            No   \n",
      "528  LP002990  Female      No          0      Graduate           Yes   \n",
      "\n",
      "     Applicant_Income  Coapplicant_Income  Loan_Amount  Loan_Amount_Term  \\\n",
      "0                4583              1508.0          128               360   \n",
      "1                3000                 0.0           66               360   \n",
      "2                2583              2358.0          120               360   \n",
      "3                6000                 0.0          141               360   \n",
      "4                5417              4196.0          267               360   \n",
      "..                ...                 ...          ...               ...   \n",
      "524              2900                 0.0           71               360   \n",
      "525              4106                 0.0           40               180   \n",
      "526              8072               240.0          253               360   \n",
      "527              7583                 0.0          187               360   \n",
      "528              4583                 0.0          133               360   \n",
      "\n",
      "     Credit_History Property_Area Loan_Approved  \n",
      "0                 1         Rural             N  \n",
      "1                 1         Urban             Y  \n",
      "2                 1         Urban             Y  \n",
      "3                 1         Urban             Y  \n",
      "4                 1         Urban             Y  \n",
      "..              ...           ...           ...  \n",
      "524               1         Rural             Y  \n",
      "525               1         Rural             Y  \n",
      "526               1         Urban             Y  \n",
      "527               1         Urban             Y  \n",
      "528               0     Semiurban             N  \n",
      "\n",
      "[529 rows x 13 columns]\n",
      "CSV's has bean read!\n"
     ]
    }
   ],
   "source": [
    "%run Read_csv.ipynb"
   ]
  },
  {
   "cell_type": "markdown",
   "id": "8835806e-42b2-465e-877f-cda4126c41d4",
   "metadata": {},
   "source": [
    "# Run the Utilities-Data_preparation file"
   ]
  },
  {
   "cell_type": "code",
   "execution_count": 183,
   "id": "ef427f15-f7eb-436a-b6cd-c698ab451a25",
   "metadata": {},
   "outputs": [],
   "source": [
    "%run Utilities-Data_preparation.ipynb"
   ]
  },
  {
   "cell_type": "code",
   "execution_count": 184,
   "id": "8db71b89-8021-4525-9c77-1a76f153dc66",
   "metadata": {},
   "outputs": [
    {
     "name": "stdout",
     "output_type": "stream",
     "text": [
      "Loan_ID: 0 value(s) missing\n",
      "Gender: 12 value(s) missing\n",
      "Married: 2 value(s) missing\n",
      "Dependents: 12 value(s) missing\n",
      "Education: 0 value(s) missing\n",
      "Self_Employed: 25 value(s) missing\n",
      "Applicant_Income: 0 value(s) missing\n",
      "Coapplicant_Income: 0 value(s) missing\n",
      "Loan_Amount: 0 value(s) missing\n",
      "Loan_Amount_Term: 0 value(s) missing\n",
      "Credit_History: 0 value(s) missing\n",
      "Property_Area: 0 value(s) missing\n",
      "Loan_Approved: 0 value(s) missing\n"
     ]
    }
   ],
   "source": [
    "show_number_of_missing(df)"
   ]
  },
  {
   "cell_type": "markdown",
   "id": "533e3c8a-1c78-4589-a243-96070d43254c",
   "metadata": {},
   "source": [
    "# Preparation"
   ]
  },
  {
   "cell_type": "code",
   "execution_count": 185,
   "id": "c02185c0-8dc2-4dc5-b01e-8c033bf83a14",
   "metadata": {},
   "outputs": [],
   "source": [
    "# Determine the name of the 'Loan_Approved' column in a variable\n",
    "label_column = \"Loan_Approved\""
   ]
  },
  {
   "cell_type": "code",
   "execution_count": 186,
   "id": "323472ad-0ccd-437e-a25b-c981d239d6a2",
   "metadata": {},
   "outputs": [],
   "source": [
    "# Replace the value 'Y' to '1'-re and the value 'N' to '0'\n",
    "df[label_column] = df[label_column].replace({\"Y\": 1, \"N\": 0})"
   ]
  },
  {
   "cell_type": "code",
   "execution_count": 187,
   "id": "c30fd57e-cfdf-45fb-be0a-2918dd21e776",
   "metadata": {},
   "outputs": [
    {
     "name": "stdout",
     "output_type": "stream",
     "text": [
      "0    0\n",
      "1    1\n",
      "2    1\n",
      "3    1\n",
      "4    1\n",
      "Name: Loan_Approved, dtype: int16\n"
     ]
    }
   ],
   "source": [
    "# Convert 'Loan_Approved' to int16\n",
    "df[label_column] = df[label_column].astype('int16')\n",
    "print(df[label_column].head())"
   ]
  },
  {
   "cell_type": "code",
   "execution_count": 188,
   "id": "53197f20-bbe6-4f48-b986-9b893bc3f22e",
   "metadata": {},
   "outputs": [],
   "source": [
    "# Split the datase \n",
    "x, y = x_y_split(df, label_column)"
   ]
  },
  {
   "cell_type": "code",
   "execution_count": 189,
   "id": "3d5eb92e-9a0d-430c-96fe-2d2556b0b975",
   "metadata": {},
   "outputs": [],
   "source": [
    "# Remove theunnecessary\"Loan_ID\"column from the xdataset.\n",
    "x = x.drop(columns=[\"Loan_ID\"])"
   ]
  },
  {
   "cell_type": "code",
   "execution_count": 190,
   "id": "968958f5-7ff7-4868-b66d-60de2d9a310a",
   "metadata": {},
   "outputs": [
    {
     "name": "stdout",
     "output_type": "stream",
     "text": [
      "List of feature columns:\n",
      "['Gender', 'Married', 'Dependents', 'Education', 'Self_Employed', 'Applicant_Income', 'Coapplicant_Income', 'Loan_Amount', 'Loan_Amount_Term', 'Credit_History', 'Property_Area']\n"
     ]
    }
   ],
   "source": [
    "# The list of column names of the x dataset\n",
    "x_columnlist = x.columns.tolist()\n",
    "\n",
    "print(\"List of feature columns:\")\n",
    "print(x_columnlist)"
   ]
  },
  {
   "cell_type": "markdown",
   "id": "4967b7f3-3bae-4d34-abef-07b195e9fce1",
   "metadata": {},
   "source": [
    "# Build 'train' and 'test' for regression model"
   ]
  },
  {
   "cell_type": "code",
   "execution_count": 191,
   "id": "17ffc847-885b-47c3-b007-40903c335d81",
   "metadata": {},
   "outputs": [
    {
     "name": "stdout",
     "output_type": "stream",
     "text": [
      "Train set size: (423, 11), (423,)\n",
      "Test set size: (106, 11), (106,)\n"
     ]
    }
   ],
   "source": [
    "# Training and testing sets\n",
    "x_train, x_test, y_train, y_test = train_test_split(x, y, test_size=0.2, random_state=42, stratify=y)\n",
    "\n",
    "print(f\"Train set size: {x_train.shape}, {y_train.shape}\")\n",
    "print(f\"Test set size: {x_test.shape}, {y_test.shape}\")"
   ]
  },
  {
   "cell_type": "markdown",
   "id": "4c657ff6-fec8-4445-b805-ad7b25772726",
   "metadata": {},
   "source": [
    "# Use 'add_categ_numeric_features_to_list' function from 'Utilities-Data_preparation' file"
   ]
  },
  {
   "cell_type": "code",
   "execution_count": 192,
   "id": "8c8ad2d8-ac56-491c-abd4-4633943f9256",
   "metadata": {},
   "outputs": [
    {
     "name": "stdout",
     "output_type": "stream",
     "text": [
      "Unique values for 'Gender': ['Female' 'Male' nan]\n",
      "Unique values for 'Married': ['No' 'Yes' nan]\n",
      "Unique values for 'Dependents': ['0' '2' '1' '3+' nan]\n",
      "Unique values for 'Education': ['Graduate' 'Not Graduate']\n",
      "Unique values for 'Self_Employed': ['No' 'Yes' nan]\n",
      "Unique values for 'Property_Area': ['Rural' 'Semiurban' 'Urban']\n"
     ]
    }
   ],
   "source": [
    "# Identify categorical and numeric features in xwith using the \"add_categ_numeric_features_to_list\" utility function.\n",
    "categorical_features, numeric_features = add_categ_numeric_features_to_list(x_train)"
   ]
  },
  {
   "cell_type": "code",
   "execution_count": 193,
   "id": "d01015bf-9f7b-415b-b76f-f2c5de661fc1",
   "metadata": {},
   "outputs": [
    {
     "data": {
      "text/plain": [
       "['Gender',\n",
       " 'Married',\n",
       " 'Dependents',\n",
       " 'Education',\n",
       " 'Self_Employed',\n",
       " 'Property_Area']"
      ]
     },
     "execution_count": 193,
     "metadata": {},
     "output_type": "execute_result"
    }
   ],
   "source": [
    "categorical_features"
   ]
  },
  {
   "cell_type": "code",
   "execution_count": 194,
   "id": "088be223-132c-464f-9e4d-68071b0d7b9c",
   "metadata": {},
   "outputs": [
    {
     "data": {
      "text/plain": [
       "['Applicant_Income',\n",
       " 'Coapplicant_Income',\n",
       " 'Loan_Amount',\n",
       " 'Loan_Amount_Term',\n",
       " 'Credit_History']"
      ]
     },
     "execution_count": 194,
     "metadata": {},
     "output_type": "execute_result"
    }
   ],
   "source": [
    "numeric_features"
   ]
  },
  {
   "cell_type": "markdown",
   "id": "4302d96e-b0ca-41b8-8993-99f09a1aeb63",
   "metadata": {},
   "source": [
    "# Replace missing values (Transformer)"
   ]
  },
  {
   "cell_type": "code",
   "execution_count": 195,
   "id": "ff342200-24f9-495d-a38e-56888e23ec47",
   "metadata": {},
   "outputs": [],
   "source": [
    "col_trans_imp_categ = create_col_trans('imp_categ', transformer_imp_unknown, categorical_features)"
   ]
  },
  {
   "cell_type": "code",
   "execution_count": 196,
   "id": "2d34b289-14b7-4eb4-915e-2707e0c847d5",
   "metadata": {},
   "outputs": [],
   "source": [
    "col_trans_imp_numeric = create_col_trans('imp_numeric', transformer_imp_mean, numeric_features)"
   ]
  },
  {
   "cell_type": "code",
   "execution_count": 197,
   "id": "4b73b942-7d34-4609-8f7e-fa039db3b41c",
   "metadata": {},
   "outputs": [],
   "source": [
    "# x_train = col_trans_imp_categ.fit_transform(x_train)\n",
    "# x_train = col_trans_imp_numeric.fit_transform(x_train)\n",
    "# x_train"
   ]
  },
  {
   "cell_type": "markdown",
   "id": "9bca83ef-460c-4b00-88a4-7c47fb1b2f7e",
   "metadata": {},
   "source": [
    "# #Convert ORDINAL Categorical features to Numeric"
   ]
  },
  {
   "cell_type": "markdown",
   "id": "6e6d8a77-0592-45e4-8875-d97f4f6f6add",
   "metadata": {},
   "source": [
    "## Ordinal variables are categories that have a logical order between them, meaning that values can be \"scaled\" according to a specific order."
   ]
  },
  {
   "cell_type": "code",
   "execution_count": 198,
   "id": "f0bef78c-2a06-44c0-af75-e7eca0f5ce84",
   "metadata": {},
   "outputs": [],
   "source": [
    "ordinal_features = ['Dependents', 'Education', 'Self_Employed', 'Property_Area']"
   ]
  },
  {
   "cell_type": "markdown",
   "id": "469fb2ff-daad-498d-b31f-0bd13d622c18",
   "metadata": {},
   "source": [
    "## For these variables, we use OrdinalEncoder, which assigns ordinal numbers to them (e.g. 0, 1, 2...)."
   ]
  },
  {
   "cell_type": "code",
   "execution_count": 199,
   "id": "163e3e12-0bce-44a5-948d-46fa78768576",
   "metadata": {},
   "outputs": [],
   "source": [
    "ordinal_categories = [\n",
    "    ['0', '1', '2', '3+', 'unknown'],              \n",
    "    ['Not Graduate', 'Graduate'],                 \n",
    "    ['Yes', 'No'],                                 \n",
    "    ['Rural', 'Semiurban', 'Urban']                \n",
    "]"
   ]
  },
  {
   "cell_type": "code",
   "execution_count": 200,
   "id": "184b456c-3961-4a20-9931-72b51de6259d",
   "metadata": {},
   "outputs": [],
   "source": [
    "col_trans_ordinal = create_col_trans('ordinal', transformer_ordinal(ordinal_categories), ordinal_features)"
   ]
  },
  {
   "cell_type": "code",
   "execution_count": 201,
   "id": "618ee03f-31b4-480b-9df6-6e72c124fc3b",
   "metadata": {},
   "outputs": [],
   "source": [
    "# x_train = col_trans_ordinal.fit_transform(x_train)\n",
    "# x_train"
   ]
  },
  {
   "cell_type": "markdown",
   "id": "f9eb46ba-be3a-4bf1-9c25-6a2834f30a78",
   "metadata": {},
   "source": [
    "## ***The essence of ordinal variables is that the categories have a logical order, which is important to preserve for the model.***"
   ]
  },
  {
   "cell_type": "markdown",
   "id": "2695c783-fde8-46bd-9586-a1c9547f5570",
   "metadata": {},
   "source": [
    "# #Convert NOMINAL Categorical features to Numeric"
   ]
  },
  {
   "cell_type": "markdown",
   "id": "6a45adc1-682b-4028-ae9b-60a5fd325e48",
   "metadata": {},
   "source": [
    "## Nominal variables are categories that cannot be logically sorted in order — only designations and labels."
   ]
  },
  {
   "cell_type": "code",
   "execution_count": 202,
   "id": "5ecc9a7d-6e2a-4ee6-b102-4b8ac6cd4449",
   "metadata": {},
   "outputs": [],
   "source": [
    "nominal_features = [\"Gender\", \"Married\"]"
   ]
  },
  {
   "cell_type": "markdown",
   "id": "6eb49366-c43e-4dd2-afbc-f784f7c64039",
   "metadata": {},
   "source": [
    "## For these, we use OneHotEncoder, which creates a separate binary column for each category. This is important because machine learning models can't interpret \"nominal\" data directly — they need to convert it into numbers."
   ]
  },
  {
   "cell_type": "code",
   "execution_count": 203,
   "id": "e711baa5-12dd-4290-9bee-0c6124a2af5b",
   "metadata": {},
   "outputs": [],
   "source": [
    "known_categories = [\n",
    "    [\"Male\", \"Female\"], \n",
    "    [\"Yes\", \"No\"], \n",
    "    \n",
    "]"
   ]
  },
  {
   "cell_type": "code",
   "execution_count": 204,
   "id": "d5784e93-3b4b-42b0-acd6-99575c4be9c9",
   "metadata": {},
   "outputs": [],
   "source": [
    "col_trans_nominal = create_col_trans('nominal', transformer_nominal(known_categories), nominal_features)"
   ]
  },
  {
   "cell_type": "code",
   "execution_count": 205,
   "id": "20f62bdf-81aa-4edf-8995-7960afb8f9f5",
   "metadata": {},
   "outputs": [],
   "source": [
    "# x_train = col_trans_nominal.fit_transform(x_train)\n",
    "# x_train"
   ]
  },
  {
   "cell_type": "markdown",
   "id": "7259d7e1-f4c0-42d6-a12f-c7ead6ac3b55",
   "metadata": {},
   "source": [
    "# #Scale numeric features to be between 0 and 1."
   ]
  },
  {
   "cell_type": "markdown",
   "id": "525b1f5d-bb39-4026-850c-902a80281711",
   "metadata": {},
   "source": [
    "## Numeric features are real numbers that can be used for operations (summing, multiplication, averaging, and so on)."
   ]
  },
  {
   "cell_type": "code",
   "execution_count": 206,
   "id": "39c34979-60ae-4fea-9890-e7e6453fd820",
   "metadata": {},
   "outputs": [],
   "source": [
    "numeric_features = [\"Applicant_Income\", \"Coapplicant_Income\", \"Loan_Amount\", \"Loan_Amount_Term\", \"Credit_History\"]"
   ]
  },
  {
   "cell_type": "markdown",
   "id": "46f8254a-5e3d-4e7c-83c9-6ae16677430a",
   "metadata": {},
   "source": [
    "## These are usually normalized or scaled (e.g., between 0 and 1) for modeling so that all features are given equal weight."
   ]
  },
  {
   "cell_type": "code",
   "execution_count": 207,
   "id": "36eddc94-29c2-4ef7-a302-ece97286a082",
   "metadata": {},
   "outputs": [],
   "source": [
    "col_trans_scale = create_col_trans('scale', transformer_scale_0_1, numeric_features)"
   ]
  },
  {
   "cell_type": "code",
   "execution_count": 208,
   "id": "dbf7f912-79b5-47d2-97e4-7cbe41131b41",
   "metadata": {},
   "outputs": [],
   "source": [
    "# x_train = col_trans_scale.fit_transform(x_train)\n",
    "# x_train"
   ]
  },
  {
   "cell_type": "markdown",
   "id": "a021eda8-ad48-44c7-8547-a65fda01144c",
   "metadata": {},
   "source": [
    "# Create pipeline"
   ]
  },
  {
   "cell_type": "code",
   "execution_count": 209,
   "id": "892a4f00-f793-4cb4-b3ed-c6a0bd7bb77b",
   "metadata": {},
   "outputs": [],
   "source": [
    "pipe = make_pipeline(col_trans_imp_categ, col_trans_imp_numeric, col_trans_ordinal, col_trans_nominal, col_trans_scale)"
   ]
  },
  {
   "cell_type": "markdown",
   "id": "e85835d5-548a-4ba2-900d-bb453f1e1c38",
   "metadata": {},
   "source": [
    "# Fit and transformthe pipeline to the \"x_train\" dataset."
   ]
  },
  {
   "cell_type": "code",
   "execution_count": 210,
   "id": "46450276-2907-4fb9-a76f-7fefbc82b88b",
   "metadata": {},
   "outputs": [
    {
     "data": {
      "text/html": [
       "<div>\n",
       "<style scoped>\n",
       "    .dataframe tbody tr th:only-of-type {\n",
       "        vertical-align: middle;\n",
       "    }\n",
       "\n",
       "    .dataframe tbody tr th {\n",
       "        vertical-align: top;\n",
       "    }\n",
       "\n",
       "    .dataframe thead th {\n",
       "        text-align: right;\n",
       "    }\n",
       "</style>\n",
       "<table border=\"1\" class=\"dataframe\">\n",
       "  <thead>\n",
       "    <tr style=\"text-align: right;\">\n",
       "      <th></th>\n",
       "      <th>Applicant_Income</th>\n",
       "      <th>Coapplicant_Income</th>\n",
       "      <th>Loan_Amount</th>\n",
       "      <th>Loan_Amount_Term</th>\n",
       "      <th>Credit_History</th>\n",
       "      <th>Gender_Male</th>\n",
       "      <th>Gender_Female</th>\n",
       "      <th>Married_Yes</th>\n",
       "      <th>Married_No</th>\n",
       "      <th>Dependents</th>\n",
       "      <th>Education</th>\n",
       "      <th>Self_Employed</th>\n",
       "      <th>Property_Area</th>\n",
       "    </tr>\n",
       "  </thead>\n",
       "  <tbody>\n",
       "    <tr>\n",
       "      <th>263</th>\n",
       "      <td>0.044675</td>\n",
       "      <td>0.049236</td>\n",
       "      <td>0.202401</td>\n",
       "      <td>0.72973</td>\n",
       "      <td>1.0</td>\n",
       "      <td>0.0</td>\n",
       "      <td>1.0</td>\n",
       "      <td>0.0</td>\n",
       "      <td>1.0</td>\n",
       "      <td>0.0</td>\n",
       "      <td>1.0</td>\n",
       "      <td>1.0</td>\n",
       "      <td>0.0</td>\n",
       "    </tr>\n",
       "    <tr>\n",
       "      <th>136</th>\n",
       "      <td>0.049685</td>\n",
       "      <td>0.042764</td>\n",
       "      <td>0.241852</td>\n",
       "      <td>0.72973</td>\n",
       "      <td>1.0</td>\n",
       "      <td>1.0</td>\n",
       "      <td>0.0</td>\n",
       "      <td>1.0</td>\n",
       "      <td>0.0</td>\n",
       "      <td>2.0</td>\n",
       "      <td>1.0</td>\n",
       "      <td>1.0</td>\n",
       "      <td>0.0</td>\n",
       "    </tr>\n",
       "    <tr>\n",
       "      <th>309</th>\n",
       "      <td>0.059988</td>\n",
       "      <td>0.108372</td>\n",
       "      <td>0.375643</td>\n",
       "      <td>0.72973</td>\n",
       "      <td>1.0</td>\n",
       "      <td>1.0</td>\n",
       "      <td>0.0</td>\n",
       "      <td>1.0</td>\n",
       "      <td>0.0</td>\n",
       "      <td>2.0</td>\n",
       "      <td>1.0</td>\n",
       "      <td>1.0</td>\n",
       "      <td>1.0</td>\n",
       "    </tr>\n",
       "    <tr>\n",
       "      <th>233</th>\n",
       "      <td>0.030550</td>\n",
       "      <td>0.065697</td>\n",
       "      <td>0.228130</td>\n",
       "      <td>0.72973</td>\n",
       "      <td>1.0</td>\n",
       "      <td>1.0</td>\n",
       "      <td>0.0</td>\n",
       "      <td>1.0</td>\n",
       "      <td>0.0</td>\n",
       "      <td>0.0</td>\n",
       "      <td>1.0</td>\n",
       "      <td>1.0</td>\n",
       "      <td>1.0</td>\n",
       "    </tr>\n",
       "    <tr>\n",
       "      <th>59</th>\n",
       "      <td>0.037823</td>\n",
       "      <td>0.090611</td>\n",
       "      <td>0.265866</td>\n",
       "      <td>0.72973</td>\n",
       "      <td>1.0</td>\n",
       "      <td>1.0</td>\n",
       "      <td>0.0</td>\n",
       "      <td>1.0</td>\n",
       "      <td>0.0</td>\n",
       "      <td>0.0</td>\n",
       "      <td>1.0</td>\n",
       "      <td>1.0</td>\n",
       "      <td>2.0</td>\n",
       "    </tr>\n",
       "    <tr>\n",
       "      <th>...</th>\n",
       "      <td>...</td>\n",
       "      <td>...</td>\n",
       "      <td>...</td>\n",
       "      <td>...</td>\n",
       "      <td>...</td>\n",
       "      <td>...</td>\n",
       "      <td>...</td>\n",
       "      <td>...</td>\n",
       "      <td>...</td>\n",
       "      <td>...</td>\n",
       "      <td>...</td>\n",
       "      <td>...</td>\n",
       "      <td>...</td>\n",
       "    </tr>\n",
       "    <tr>\n",
       "      <th>218</th>\n",
       "      <td>0.072913</td>\n",
       "      <td>0.000000</td>\n",
       "      <td>0.168096</td>\n",
       "      <td>0.72973</td>\n",
       "      <td>0.0</td>\n",
       "      <td>1.0</td>\n",
       "      <td>0.0</td>\n",
       "      <td>0.0</td>\n",
       "      <td>1.0</td>\n",
       "      <td>0.0</td>\n",
       "      <td>0.0</td>\n",
       "      <td>1.0</td>\n",
       "      <td>0.0</td>\n",
       "    </tr>\n",
       "    <tr>\n",
       "      <th>139</th>\n",
       "      <td>0.028312</td>\n",
       "      <td>0.098502</td>\n",
       "      <td>0.192110</td>\n",
       "      <td>0.72973</td>\n",
       "      <td>1.0</td>\n",
       "      <td>1.0</td>\n",
       "      <td>0.0</td>\n",
       "      <td>1.0</td>\n",
       "      <td>0.0</td>\n",
       "      <td>0.0</td>\n",
       "      <td>1.0</td>\n",
       "      <td>1.0</td>\n",
       "      <td>0.0</td>\n",
       "    </tr>\n",
       "    <tr>\n",
       "      <th>123</th>\n",
       "      <td>0.058256</td>\n",
       "      <td>0.024529</td>\n",
       "      <td>0.185249</td>\n",
       "      <td>0.72973</td>\n",
       "      <td>1.0</td>\n",
       "      <td>1.0</td>\n",
       "      <td>0.0</td>\n",
       "      <td>1.0</td>\n",
       "      <td>0.0</td>\n",
       "      <td>0.0</td>\n",
       "      <td>1.0</td>\n",
       "      <td>1.0</td>\n",
       "      <td>1.0</td>\n",
       "    </tr>\n",
       "    <tr>\n",
       "      <th>466</th>\n",
       "      <td>0.025838</td>\n",
       "      <td>0.074593</td>\n",
       "      <td>0.190395</td>\n",
       "      <td>0.72973</td>\n",
       "      <td>1.0</td>\n",
       "      <td>1.0</td>\n",
       "      <td>0.0</td>\n",
       "      <td>1.0</td>\n",
       "      <td>0.0</td>\n",
       "      <td>1.0</td>\n",
       "      <td>0.0</td>\n",
       "      <td>1.0</td>\n",
       "      <td>2.0</td>\n",
       "    </tr>\n",
       "    <tr>\n",
       "      <th>487</th>\n",
       "      <td>0.037304</td>\n",
       "      <td>0.060998</td>\n",
       "      <td>0.149228</td>\n",
       "      <td>0.72973</td>\n",
       "      <td>0.0</td>\n",
       "      <td>1.0</td>\n",
       "      <td>0.0</td>\n",
       "      <td>1.0</td>\n",
       "      <td>0.0</td>\n",
       "      <td>0.0</td>\n",
       "      <td>1.0</td>\n",
       "      <td>1.0</td>\n",
       "      <td>2.0</td>\n",
       "    </tr>\n",
       "  </tbody>\n",
       "</table>\n",
       "<p>423 rows × 13 columns</p>\n",
       "</div>"
      ],
      "text/plain": [
       "     Applicant_Income  Coapplicant_Income  Loan_Amount  Loan_Amount_Term  \\\n",
       "263          0.044675            0.049236     0.202401           0.72973   \n",
       "136          0.049685            0.042764     0.241852           0.72973   \n",
       "309          0.059988            0.108372     0.375643           0.72973   \n",
       "233          0.030550            0.065697     0.228130           0.72973   \n",
       "59           0.037823            0.090611     0.265866           0.72973   \n",
       "..                ...                 ...          ...               ...   \n",
       "218          0.072913            0.000000     0.168096           0.72973   \n",
       "139          0.028312            0.098502     0.192110           0.72973   \n",
       "123          0.058256            0.024529     0.185249           0.72973   \n",
       "466          0.025838            0.074593     0.190395           0.72973   \n",
       "487          0.037304            0.060998     0.149228           0.72973   \n",
       "\n",
       "     Credit_History  Gender_Male  Gender_Female  Married_Yes  Married_No  \\\n",
       "263             1.0          0.0            1.0          0.0         1.0   \n",
       "136             1.0          1.0            0.0          1.0         0.0   \n",
       "309             1.0          1.0            0.0          1.0         0.0   \n",
       "233             1.0          1.0            0.0          1.0         0.0   \n",
       "59              1.0          1.0            0.0          1.0         0.0   \n",
       "..              ...          ...            ...          ...         ...   \n",
       "218             0.0          1.0            0.0          0.0         1.0   \n",
       "139             1.0          1.0            0.0          1.0         0.0   \n",
       "123             1.0          1.0            0.0          1.0         0.0   \n",
       "466             1.0          1.0            0.0          1.0         0.0   \n",
       "487             0.0          1.0            0.0          1.0         0.0   \n",
       "\n",
       "     Dependents  Education  Self_Employed  Property_Area  \n",
       "263         0.0        1.0            1.0            0.0  \n",
       "136         2.0        1.0            1.0            0.0  \n",
       "309         2.0        1.0            1.0            1.0  \n",
       "233         0.0        1.0            1.0            1.0  \n",
       "59          0.0        1.0            1.0            2.0  \n",
       "..          ...        ...            ...            ...  \n",
       "218         0.0        0.0            1.0            0.0  \n",
       "139         0.0        1.0            1.0            0.0  \n",
       "123         0.0        1.0            1.0            1.0  \n",
       "466         1.0        0.0            1.0            2.0  \n",
       "487         0.0        1.0            1.0            2.0  \n",
       "\n",
       "[423 rows x 13 columns]"
      ]
     },
     "execution_count": 210,
     "metadata": {},
     "output_type": "execute_result"
    }
   ],
   "source": [
    "x_train = pipe.fit_transform(x_train)\n",
    "x_train"
   ]
  },
  {
   "cell_type": "code",
   "execution_count": 211,
   "id": "ab5bab1b-a64d-4404-a925-882e7ea8ead1",
   "metadata": {},
   "outputs": [
    {
     "name": "stdout",
     "output_type": "stream",
     "text": [
      "\n",
      "Data preparation has been made!\n"
     ]
    }
   ],
   "source": [
    "print(\"\\nData preparation has been made!\")"
   ]
  },
  {
   "cell_type": "markdown",
   "id": "85bafa46-6186-480b-8d44-44146dfb190c",
   "metadata": {},
   "source": [
    "- # Machine learning models typically work with numbers, which is why you need to convert text or category data into numbers. \n",
    "- # Scaling helps to give numeric variables a more equal weight, not dominated by a very large or very small value.\n",
    "- # One-hot encoding preserves the separation of nominal variables without assuming an order.\n",
    "- # And ordinal encoding preserves the relationship between ranked categories."
   ]
  }
 ],
 "metadata": {
  "kernelspec": {
   "display_name": "Python 3 (ipykernel)",
   "language": "python",
   "name": "python3"
  },
  "language_info": {
   "codemirror_mode": {
    "name": "ipython",
    "version": 3
   },
   "file_extension": ".py",
   "mimetype": "text/x-python",
   "name": "python",
   "nbconvert_exporter": "python",
   "pygments_lexer": "ipython3",
   "version": "3.11.7"
  }
 },
 "nbformat": 4,
 "nbformat_minor": 5
}
