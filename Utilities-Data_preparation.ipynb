{
 "cells": [
  {
   "cell_type": "markdown",
   "id": "4d1c8abe-1817-404e-8f25-4076afadcd1a",
   "metadata": {},
   "source": [
    "# Data Preparation utilities"
   ]
  },
  {
   "cell_type": "code",
   "execution_count": 9,
   "id": "2131b863-24ec-47a9-9a5f-adf21b5d86e1",
   "metadata": {},
   "outputs": [],
   "source": [
    "import pandas as pd\n",
    "from sklearn.impute import SimpleImputer\n",
    "from sklearn.preprocessing import OrdinalEncoder, OneHotEncoder\n",
    "from sklearn.preprocessing import MinMaxScaler\n",
    "from sklearn.compose import ColumnTransformer"
   ]
  },
  {
   "cell_type": "code",
   "execution_count": 10,
   "id": "2d405d64-f21e-4d9d-9b7c-ed1d3ed2e2be",
   "metadata": {},
   "outputs": [],
   "source": [
    "def show_number_of_missing(df):\n",
    "    for column in df.columns:\n",
    "        missingvalues = df.loc[ df[column].isnull() ].shape[0]\n",
    "        print(f'{column}: {missingvalues} value(s) missing')"
   ]
  },
  {
   "cell_type": "code",
   "execution_count": 11,
   "id": "0a13bc52-0fc1-428e-9422-9654c3520c56",
   "metadata": {},
   "outputs": [],
   "source": [
    "def x_y_split(df, label_column):\n",
    "    x = df.drop(label_column, axis=1)  # features - all columns, without label\n",
    "    y = df[label_column]  # Label\n",
    "    return x, y"
   ]
  },
  {
   "cell_type": "code",
   "execution_count": 12,
   "id": "60f39ae3-0307-4eb5-bd14-fe349f7ff424",
   "metadata": {},
   "outputs": [],
   "source": [
    "def add_categ_numeric_features_to_list(df):\n",
    "    categorical_features = []\n",
    "    numeric_features = []\n",
    "\n",
    "    for column in df.columns:\n",
    "        # if column is float or integer type\n",
    "        if df[column].dtype.kind in 'fi':\n",
    "            numeric_features.append(column)\n",
    "        else:\n",
    "            categorical_features.append(column)\n",
    "\n",
    "    for cat_col in categorical_features:\n",
    "        print(f\"Unique values for '{cat_col}': {df[cat_col].unique()}\")\n",
    "\n",
    "    return categorical_features, numeric_features"
   ]
  },
  {
   "cell_type": "markdown",
   "id": "18ea8b5d-d859-4d37-b319-7e669b4a540a",
   "metadata": {},
   "source": [
    "# Transformers"
   ]
  },
  {
   "cell_type": "code",
   "execution_count": 13,
   "id": "64563ddf-e449-440c-bbe3-fd0a1fb3b60f",
   "metadata": {},
   "outputs": [],
   "source": [
    "transformer_imp_unknown = SimpleImputer(strategy = 'constant', fill_value = 'unknown')"
   ]
  },
  {
   "cell_type": "code",
   "execution_count": 14,
   "id": "03ee7f4a-ef90-41b1-a3aa-f272bcbf169d",
   "metadata": {},
   "outputs": [],
   "source": [
    "transformer_imp_mean = SimpleImputer(strategy = 'mean')"
   ]
  },
  {
   "cell_type": "code",
   "execution_count": 15,
   "id": "f975fade-0263-4905-90c0-dee74709839f",
   "metadata": {},
   "outputs": [],
   "source": [
    "def create_col_trans(name, transformer, columnamelist):\n",
    "    column_transformer = ColumnTransformer(transformers = [ (name, transformer, columnamelist) ],\n",
    "        remainder = 'passthrough', verbose_feature_names_out = False)\n",
    "\n",
    "    column_transformer.set_output(transform = 'pandas')\n",
    "\n",
    "    return column_transformer"
   ]
  },
  {
   "cell_type": "code",
   "execution_count": 16,
   "id": "c7d87312-0d2c-4230-adb2-a3607159e691",
   "metadata": {},
   "outputs": [],
   "source": [
    "def transformer_ordinal(categorylist):\n",
    "    transformer_ordinal = OrdinalEncoder(categories = categorylist, handle_unknown='use_encoded_value', unknown_value=-1)\n",
    "\n",
    "    return transformer_ordinal"
   ]
  },
  {
   "cell_type": "code",
   "execution_count": 17,
   "id": "9dee79e7-54cf-460e-9aff-92f2d3f8f1fb",
   "metadata": {},
   "outputs": [],
   "source": [
    "def transformer_nominal(known_categories):\n",
    "    transformer_nominal = OneHotEncoder(categories = known_categories, handle_unknown = 'ignore', sparse_output = False)\n",
    "\n",
    "    return transformer_nominal"
   ]
  },
  {
   "cell_type": "code",
   "execution_count": 18,
   "id": "e61d4ba2-a296-4954-8e7c-0473c7b3a269",
   "metadata": {},
   "outputs": [],
   "source": [
    "transformer_scale_0_1 = MinMaxScaler(feature_range = (0, 1))"
   ]
  }
 ],
 "metadata": {
  "kernelspec": {
   "display_name": "Python 3 (ipykernel)",
   "language": "python",
   "name": "python3"
  },
  "language_info": {
   "codemirror_mode": {
    "name": "ipython",
    "version": 3
   },
   "file_extension": ".py",
   "mimetype": "text/x-python",
   "name": "python",
   "nbconvert_exporter": "python",
   "pygments_lexer": "ipython3",
   "version": "3.11.7"
  }
 },
 "nbformat": 4,
 "nbformat_minor": 5
}
